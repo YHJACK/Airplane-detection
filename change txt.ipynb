{
 "cells": [
  {
   "cell_type": "code",
   "execution_count": 9,
   "metadata": {},
   "outputs": [],
   "source": [
    "from xml.dom.minidom import Document\n",
    "import os\n",
    "import cv2"
   ]
  },
  {
   "cell_type": "code",
   "execution_count": 10,
   "metadata": {},
   "outputs": [],
   "source": [
    "###把None改成####0"
   ]
  },
  {
   "cell_type": "code",
   "execution_count": 11,
   "metadata": {},
   "outputs": [],
   "source": [
    "txtPath = \"/home/yylab/Dataset/RarePlanes/2080/test/YOLO_2080/\"\n",
    "xmlPath = \"/home/yylab/Dataset/RarePlanes/2080/test/xml/\""
   ]
  },
  {
   "cell_type": "code",
   "execution_count": 12,
   "metadata": {},
   "outputs": [],
   "source": [
    "def alter(txtPath,old_str,new_str):\n",
    "    files = os.listdir(txtPath)\n",
    "    for i, name in enumerate(files):\n",
    "        file_data = \"\"\n",
    "        with open(txtPath+name, \"r\",encoding='windows-1252') as f:\n",
    "            for line in f:\n",
    "                if old_str in line:\n",
    "                    line = line.replace(old_str,new_str)\n",
    "                file_data += line\n",
    "        with open(txtPath+name,\"w\",encoding='windows-1252') as f:\n",
    "            f.write(file_data)\n",
    "alter(txtPath, \"None\", \"0\")"
   ]
  },
  {
   "cell_type": "code",
   "execution_count": 13,
   "metadata": {},
   "outputs": [],
   "source": [
    "#####生成xml####"
   ]
  },
  {
   "cell_type": "code",
   "execution_count": 14,
   "metadata": {},
   "outputs": [],
   "source": [
    "def makexml(txtPath,xmlPath): #读取txt路径，xml保存路径，数据集图片所在路径\n",
    "        dict = {'0': \"airplane\",#字典对类型进行转换\n",
    "                '1': \"trans_l\",\n",
    "                '2': \"slot_l\", \n",
    "                '3': \"sink_l\",\n",
    "                '4': \"chap_l\",\n",
    "                '5': \"block_l\",\n",
    "                '6': \"track_l\",\n",
    "                '7': \"plash\",\n",
    "                '8': \"block_h\"}\n",
    "        files = os.listdir(txtPath)\n",
    "        for i, name in enumerate(files):\n",
    "            xmlBuilder = Document()\n",
    "            annotation = xmlBuilder.createElement(\"annotation\")  # 创建annotation标签\n",
    "            xmlBuilder.appendChild(annotation)\n",
    "            txtFile=open(txtPath+name)\n",
    "            txtList = txtFile.readlines()\n",
    "            #img = cv2.imread(picPath+name[0:-4]+\".png\")\n",
    "            #Pheight,Pwidth,Pdepth=img.shape\n",
    "            Pheight = 2080\n",
    "            Pwidth = 2080\n",
    "            Pdepth = 3\n",
    "            \n",
    "            for i in txtList:\n",
    "                oneline = i.strip().split(\" \")\n",
    "\n",
    "                folder = xmlBuilder.createElement(\"folder\")#folder标签\n",
    "                folderContent = xmlBuilder.createTextNode(\"VOC2007\")\n",
    "                folder.appendChild(folderContent)\n",
    "                annotation.appendChild(folder)\n",
    "\n",
    "                filename = xmlBuilder.createElement(\"filename\")#filename标签\n",
    "                filenameContent = xmlBuilder.createTextNode(name[0:-4]+\".png\")\n",
    "                filename.appendChild(filenameContent)\n",
    "                annotation.appendChild(filename)\n",
    "\n",
    "                size = xmlBuilder.createElement(\"size\")  # size标签\n",
    "                width = xmlBuilder.createElement(\"width\")  # size子标签width\n",
    "                widthContent = xmlBuilder.createTextNode(str(Pwidth))\n",
    "                width.appendChild(widthContent)\n",
    "                size.appendChild(width)\n",
    "                height = xmlBuilder.createElement(\"height\")  # size子标签height\n",
    "                heightContent = xmlBuilder.createTextNode(str(Pheight))\n",
    "                height.appendChild(heightContent)\n",
    "                size.appendChild(height)\n",
    "                depth = xmlBuilder.createElement(\"depth\")  # size子标签depth\n",
    "                depthContent = xmlBuilder.createTextNode(str(Pdepth))\n",
    "                depth.appendChild(depthContent)\n",
    "                size.appendChild(depth)\n",
    "                annotation.appendChild(size)\n",
    "\n",
    "                object = xmlBuilder.createElement(\"object\")\n",
    "                picname = xmlBuilder.createElement(\"name\")\n",
    "                nameContent = xmlBuilder.createTextNode(dict[oneline[0]])\n",
    "                picname.appendChild(nameContent)\n",
    "                object.appendChild(picname)\n",
    "                pose = xmlBuilder.createElement(\"pose\")\n",
    "                poseContent = xmlBuilder.createTextNode(\"Unspecified\")\n",
    "                pose.appendChild(poseContent)\n",
    "                object.appendChild(pose)\n",
    "                truncated = xmlBuilder.createElement(\"truncated\")\n",
    "                truncatedContent = xmlBuilder.createTextNode(\"0\")\n",
    "                truncated.appendChild(truncatedContent)\n",
    "                object.appendChild(truncated)\n",
    "                difficult = xmlBuilder.createElement(\"difficult\")\n",
    "                difficultContent = xmlBuilder.createTextNode(\"0\")\n",
    "                difficult.appendChild(difficultContent)\n",
    "                object.appendChild(difficult)\n",
    "                bndbox = xmlBuilder.createElement(\"bndbox\")\n",
    "                xmin = xmlBuilder.createElement(\"xmin\")\n",
    "                mathData=int(((float(oneline[1]))*Pwidth+1)-(float(oneline[3]))*0.5*Pwidth)\n",
    "                xminContent = xmlBuilder.createTextNode(str(mathData))\n",
    "                xmin.appendChild(xminContent)\n",
    "                bndbox.appendChild(xmin)\n",
    "                ymin = xmlBuilder.createElement(\"ymin\")\n",
    "                mathData = int(((float(oneline[2]))*Pheight+1)-(float(oneline[4]))*0.5*Pheight)\n",
    "                yminContent = xmlBuilder.createTextNode(str(mathData))\n",
    "                ymin.appendChild(yminContent)\n",
    "                bndbox.appendChild(ymin)\n",
    "                xmax = xmlBuilder.createElement(\"xmax\")\n",
    "                mathData = int(((float(oneline[1]))*Pwidth+1)+(float(oneline[3]))*0.5*Pwidth)\n",
    "                xmaxContent = xmlBuilder.createTextNode(str(mathData))\n",
    "                xmax.appendChild(xmaxContent)\n",
    "                bndbox.appendChild(xmax)\n",
    "                \n",
    "                ymax = xmlBuilder.createElement(\"ymax\")\n",
    "                mathData = int(((float(oneline[2]))*Pheight+1)+(float(oneline[4]))*0.5*Pheight)\n",
    "                ymaxContent = xmlBuilder.createTextNode(str(mathData))\n",
    "                ymax.appendChild(ymaxContent)\n",
    "                bndbox.appendChild(ymax)\n",
    "                object.appendChild(bndbox)\n",
    "\n",
    "                annotation.appendChild(object)\n",
    "\n",
    "                f = open(xmlPath+name[0:-4]+\".xml\", 'w')\n",
    "                xmlBuilder.writexml(f, indent='\\t', newl='\\n', addindent='\\t', encoding='utf-8')\n",
    "                f.close()\n"
   ]
  },
  {
   "cell_type": "code",
   "execution_count": 15,
   "metadata": {},
   "outputs": [],
   "source": [
    "makexml(txtPath,xmlPath)"
   ]
  },
  {
   "cell_type": "code",
   "execution_count": null,
   "metadata": {},
   "outputs": [],
   "source": []
  }
 ],
 "metadata": {
  "kernelspec": {
   "display_name": "Python 3",
   "language": "python",
   "name": "python3"
  },
  "language_info": {
   "codemirror_mode": {
    "name": "ipython",
    "version": 3
   },
   "file_extension": ".py",
   "mimetype": "text/x-python",
   "name": "python",
   "nbconvert_exporter": "python",
   "pygments_lexer": "ipython3",
   "version": "3.8.3"
  }
 },
 "nbformat": 4,
 "nbformat_minor": 4
}
